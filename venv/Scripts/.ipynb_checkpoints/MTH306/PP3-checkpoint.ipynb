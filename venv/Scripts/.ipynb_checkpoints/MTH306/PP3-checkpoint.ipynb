{
 "cells": [
  {
   "cell_type": "code",
   "outputs": [],
   "source": [
    "import numpy as np\n",
    "#NathanielLasher, 50456647\n",
    "#CookiesnCream, froyo, the colorful bits off cosmic fudge brownies\n",
    "from resources306 import*\n",
    "from sympy.integrals import laplace_transform as L, inverse_laplace_transform as Linv\n",
    "s, t = sp.symbols('s t')\n",
    "w = sp.symbols('w')"
   ],
   "metadata": {
    "collapsed": false,
    "ExecuteTime": {
     "end_time": "2024-04-29T15:30:58.117553Z",
     "start_time": "2024-04-29T15:30:58.111771Z"
    }
   },
   "id": "2fe403a0e545ff32",
   "execution_count": 17
  },
  {
   "cell_type": "markdown",
   "source": [],
   "metadata": {
    "collapsed": false
   },
   "id": "bcff0ae3713b7d14"
  },
  {
   "cell_type": "code",
   "outputs": [
    {
     "data": {
      "text/plain": "1 \n──\n 2\ns ",
      "image/png": "[encoded data removed]",
      "text/latex": "$\\displaystyle \\frac{1}{s^{2}}$"
     },
     "execution_count": 18,
     "metadata": {},
     "output_type": "execute_result"
    }
   ],
   "source": [
    "#1 f(t) = t\n",
    "L(t, t, s)[0]"
   ],
   "metadata": {
    "collapsed": false,
    "ExecuteTime": {
     "end_time": "2024-04-29T15:30:59.241221Z",
     "start_time": "2024-04-29T15:30:58.135561Z"
    }
   },
   "id": "e7ad439a9fe7ef33",
   "execution_count": 18
  },
  {
   "cell_type": "code",
   "outputs": [
    {
     "data": {
      "text/plain": "  1  \n─────\ns - 8",
      "image/png": "[encoded data removed]",
      "text/latex": "$\\displaystyle \\frac{1}{s - 8}$"
     },
     "execution_count": 21,
     "metadata": {},
     "output_type": "execute_result"
    }
   ],
   "source": [
    "#2 f(t) = exp(8t)\n",
    "L(sp.exp(8*t), t, s)[0]"
   ],
   "metadata": {
    "collapsed": false,
    "ExecuteTime": {
     "end_time": "2024-04-29T15:33:16.538783Z",
     "start_time": "2024-04-29T15:33:15.412393Z"
    }
   },
   "id": "ca94fcc4a4c00a0c",
   "execution_count": 21
  },
  {
   "cell_type": "code",
   "outputs": [
    {
     "data": {
      "text/plain": "  s   \n──────\n 2    \ns  + 9",
      "image/png": "[encoded data removed]",
      "text/latex": "$\\displaystyle \\frac{s}{s^{2} + 9}$"
     },
     "execution_count": 24,
     "metadata": {},
     "output_type": "execute_result"
    }
   ],
   "source": [
    "#3 f(t) = cos(3t)\n",
    "L(sp.cos(3*t), t, s)[0]"
   ],
   "metadata": {
    "collapsed": false,
    "ExecuteTime": {
     "end_time": "2024-04-29T15:35:36.250573Z",
     "start_time": "2024-04-29T15:35:35.100213Z"
    }
   },
   "id": "872d3d445cfec2c4",
   "execution_count": 24
  },
  {
   "cell_type": "code",
   "outputs": [
    {
     "data": {
      "text/plain": "   5   \n───────\n 2     \ns  + 25",
      "image/png": "[encoded data removed]",
      "text/latex": "$\\displaystyle \\frac{5}{s^{2} + 25}$"
     },
     "execution_count": 26,
     "metadata": {},
     "output_type": "execute_result"
    }
   ],
   "source": [
    "#4 f(t) = sin(5t)\n",
    "L(sp.sin(5*t), t, s)[0]"
   ],
   "metadata": {
    "collapsed": false,
    "ExecuteTime": {
     "end_time": "2024-04-29T15:35:47.903682Z",
     "start_time": "2024-04-29T15:35:46.689618Z"
    }
   },
   "id": "13a74fdf73ed966c",
   "execution_count": 26
  },
  {
   "cell_type": "code",
   "outputs": [
    {
     "data": {
      "text/plain": " 4⋅t     \nℯ   ⋅θ(t)",
      "image/png": "[encoded data removed]",
      "text/latex": "$\\displaystyle e^{4 t} \\theta\\left(t\\right)$"
     },
     "execution_count": 27,
     "metadata": {},
     "output_type": "execute_result"
    }
   ],
   "source": [
    "# Inverse laplace transforms of the following\n",
    "#1 \n",
    "F = 1 / (s-4) #F(s)\n",
    "Linv(F, s, t)"
   ],
   "metadata": {
    "collapsed": false,
    "ExecuteTime": {
     "end_time": "2024-04-29T15:38:08.412875Z",
     "start_time": "2024-04-29T15:38:07.321498Z"
    }
   },
   "id": "f3b8c92d6255e2",
   "execution_count": 27
  },
  {
   "cell_type": "code",
   "outputs": [
    {
     "data": {
      "text/plain": "cos(9⋅t)⋅θ(t)",
      "image/png": "[encoded data removed]",
      "text/latex": "$\\displaystyle \\cos{\\left(9 t \\right)} \\theta\\left(t\\right)$"
     },
     "execution_count": 28,
     "metadata": {},
     "output_type": "execute_result"
    }
   ],
   "source": [
    "#2\n",
    "F = s / ((s**2) + 81)  #F(s)\n",
    "Linv(F, s, t)"
   ],
   "metadata": {
    "collapsed": false,
    "ExecuteTime": {
     "end_time": "2024-04-29T15:39:25.996362Z",
     "start_time": "2024-04-29T15:39:24.937824Z"
    }
   },
   "id": "980dd20c11a0fea3",
   "execution_count": 28
  },
  {
   "cell_type": "code",
   "outputs": [
    {
     "data": {
      "text/plain": "sin(9⋅t)⋅θ(t)",
      "image/png": "[encoded data removed]",
      "text/latex": "$\\displaystyle \\sin{\\left(9 t \\right)} \\theta\\left(t\\right)$"
     },
     "execution_count": 29,
     "metadata": {},
     "output_type": "execute_result"
    }
   ],
   "source": [
    "#3\n",
    "F = 9 / ((s**2) + 81)  #F(s)\n",
    "Linv(F, s, t)"
   ],
   "metadata": {
    "collapsed": false,
    "ExecuteTime": {
     "end_time": "2024-04-29T15:39:53.019061Z",
     "start_time": "2024-04-29T15:39:51.935742Z"
    }
   },
   "id": "da5b7e191ec4bfda",
   "execution_count": 29
  },
  {
   "cell_type": "code",
   "outputs": [
    {
     "data": {
      "text/plain": " 4     \nt ⋅θ(t)",
      "image/png": "[encoded data removed]",
      "text/latex": "$\\displaystyle t^{4} \\theta\\left(t\\right)$"
     },
     "execution_count": 30,
     "metadata": {},
     "output_type": "execute_result"
    }
   ],
   "source": [
    "#4\n",
    "F = 24 / (s**5)  #F(s)\n",
    "Linv(F, s, t)"
   ],
   "metadata": {
    "collapsed": false,
    "ExecuteTime": {
     "end_time": "2024-04-29T15:40:17.960635Z",
     "start_time": "2024-04-29T15:40:16.877945Z"
    }
   },
   "id": "cde8650faa949927",
   "execution_count": 30
  },
  {
   "cell_type": "code",
   "outputs": [],
   "source": [
    "#highfive #imgoingtoyeetoutofhereprof #sadnowthatpythonisover"
   ],
   "metadata": {
    "collapsed": false
   },
   "id": "2bc21cf996688076"
  }
 ],
 "metadata": {
  "kernelspec": {
   "display_name": "Python 3",
   "language": "python",
   "name": "python3"
  },
  "language_info": {
   "codemirror_mode": {
    "name": "ipython",
    "version": 2
   },
   "file_extension": ".py",
   "mimetype": "text/x-python",
   "name": "python",
   "nbconvert_exporter": "python",
   "pygments_lexer": "ipython2",
   "version": "2.7.6"
  }
 },
 "nbformat": 4,
 "nbformat_minor": 5
}
