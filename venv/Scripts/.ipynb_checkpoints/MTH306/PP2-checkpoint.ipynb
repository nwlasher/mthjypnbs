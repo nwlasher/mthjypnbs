{
 "cells": [
  {
   "cell_type": "code",
   "outputs": [],
   "source": [
    "#NathanielLasher #50456647\n",
    "#JulianaFreitag #She does youtube thumbnails and they dont officially have names #The one with two trains, heres a link if you want to see it i just love the energy she puts into them https://i.ytimg.com/vi/1jPSFaCgNJU/hqdefault.jpg\n",
    "\n",
    "from resources306 import *\n",
    "from sympy import *\n",
    "init_printing()\n",
    "lamda = symbols('lamda')"
   ],
   "metadata": {
    "collapsed": false,
    "ExecuteTime": {
     "end_time": "2024-04-12T21:33:53.678514Z",
     "start_time": "2024-04-12T21:33:53.672872Z"
    }
   },
   "id": "b33ff0a35551b9df",
   "execution_count": 35
  },
  {
   "cell_type": "code",
   "outputs": [
    {
     "data": {
      "text/plain": "⎡4  2 ⎤\n⎢     ⎥\n⎣3  -1⎦",
      "image/png": "[encoded data removed]",
      "text/latex": "$\\displaystyle \\left[\\begin{matrix}4 & 2\\\\3 & -1\\end{matrix}\\right]$"
     },
     "execution_count": 36,
     "metadata": {},
     "output_type": "execute_result"
    }
   ],
   "source": [
    "#The next 4 cells are for the system x1'=4x1+2x2 & x2'=3x1-x2\n",
    "A = Matrix([[4, 2], [3, -1]])\n",
    "A"
   ],
   "metadata": {
    "collapsed": false,
    "ExecuteTime": {
     "end_time": "2024-04-12T21:33:54.900424Z",
     "start_time": "2024-04-12T21:33:53.690012Z"
    }
   },
   "id": "e6c3c03a02687b09",
   "execution_count": 36
  },
  {
   "cell_type": "code",
   "outputs": [
    {
     "data": {
      "text/plain": "PurePoly(lamda**2 - 3*lamda - 10, lamda, domain='ZZ')",
      "image/png": "[encoded data removed]",
      "text/latex": "$\\displaystyle \\operatorname{PurePoly}{\\left( \\lambda^{2} - 3 \\lambda - 10, \\lambda, domain=\\mathbb{Z} \\right)}$"
     },
     "execution_count": 37,
     "metadata": {},
     "output_type": "execute_result"
    }
   ],
   "source": [
    "p = A.charpoly(lamda)\n",
    "p"
   ],
   "metadata": {
    "collapsed": false,
    "ExecuteTime": {
     "end_time": "2024-04-12T21:33:56.038160Z",
     "start_time": "2024-04-12T21:33:54.901558Z"
    }
   },
   "id": "938c6241f58e189f",
   "execution_count": 37
  },
  {
   "cell_type": "code",
   "outputs": [
    {
     "data": {
      "text/plain": "(λ - 5)⋅(λ + 2)",
      "image/png": "[encoded data removed]",
      "text/latex": "$\\displaystyle \\left(\\lambda - 5\\right) \\left(\\lambda + 2\\right)$"
     },
     "execution_count": 38,
     "metadata": {},
     "output_type": "execute_result"
    }
   ],
   "source": [
    "factor(p.as_expr())"
   ],
   "metadata": {
    "collapsed": false,
    "ExecuteTime": {
     "end_time": "2024-04-12T21:33:57.067321Z",
     "start_time": "2024-04-12T21:33:56.039167Z"
    }
   },
   "id": "7d6bc675af5307ee",
   "execution_count": 38
  },
  {
   "cell_type": "code",
   "outputs": [
    {
     "data": {
      "text/plain": "{-2: 1, 5: 1}",
      "image/png": "[encoded data removed]",
      "text/latex": "$\\displaystyle \\left\\{ -2 : 1, \\  5 : 1\\right\\}$"
     },
     "execution_count": 39,
     "metadata": {},
     "output_type": "execute_result"
    }
   ],
   "source": [
    "A.eigenvals()"
   ],
   "metadata": {
    "collapsed": false,
    "ExecuteTime": {
     "end_time": "2024-04-12T21:33:58.076986Z",
     "start_time": "2024-04-12T21:33:57.069328Z"
    }
   },
   "id": "e105b75632748624",
   "execution_count": 39
  },
  {
   "cell_type": "code",
   "outputs": [
    {
     "data": {
      "text/plain": "⎡⎛       ⎡⎡-1/3⎤⎤⎞  ⎛      ⎡⎡2⎤⎤⎞⎤\n⎢⎜-2, 1, ⎢⎢    ⎥⎥⎟, ⎜5, 1, ⎢⎢ ⎥⎥⎟⎥\n⎣⎝       ⎣⎣ 1  ⎦⎦⎠  ⎝      ⎣⎣1⎦⎦⎠⎦",
      "image/png": "[encoded data removed]",
      "text/latex": "$\\displaystyle \\left[ \\left( -2, \\  1, \\  \\left[ \\left[\\begin{matrix}- \\frac{1}{3}\\\\1\\end{matrix}\\right]\\right]\\right), \\  \\left( 5, \\  1, \\  \\left[ \\left[\\begin{matrix}2\\\\1\\end{matrix}\\right]\\right]\\right)\\right]$"
     },
     "execution_count": 40,
     "metadata": {},
     "output_type": "execute_result"
    }
   ],
   "source": [
    "A.eigenvects()"
   ],
   "metadata": {
    "collapsed": false,
    "ExecuteTime": {
     "end_time": "2024-04-12T21:33:59.108957Z",
     "start_time": "2024-04-12T21:33:58.078650Z"
    }
   },
   "id": "dd295d300c221d11",
   "execution_count": 40
  },
  {
   "cell_type": "code",
   "outputs": [
    {
     "data": {
      "text/plain": "⎡7  -2⎤\n⎢     ⎥\n⎣0  7 ⎦",
      "image/png": "[encoded data removed]",
      "text/latex": "$\\displaystyle \\left[\\begin{matrix}7 & -2\\\\0 & 7\\end{matrix}\\right]$"
     },
     "execution_count": 41,
     "metadata": {},
     "output_type": "execute_result"
    }
   ],
   "source": [
    "#The next 4 cells are for the system x1'=7x1-2x2 & x2'=7x2\n",
    "B = Matrix([[7, -2], [0, 7]])\n",
    "B"
   ],
   "metadata": {
    "collapsed": false,
    "ExecuteTime": {
     "end_time": "2024-04-12T21:34:00.163762Z",
     "start_time": "2024-04-12T21:33:59.110224Z"
    }
   },
   "id": "3229d9dadb9c3aaf",
   "execution_count": 41
  },
  {
   "cell_type": "code",
   "outputs": [
    {
     "data": {
      "text/plain": "PurePoly(lamda**2 - 14*lamda + 49, lamda, domain='ZZ')",
      "image/png": "[encoded data removed]",
      "text/latex": "$\\displaystyle \\operatorname{PurePoly}{\\left( \\lambda^{2} - 14 \\lambda + 49, \\lambda, domain=\\mathbb{Z} \\right)}$"
     },
     "execution_count": 42,
     "metadata": {},
     "output_type": "execute_result"
    }
   ],
   "source": [
    "p = B.charpoly(lamda)\n",
    "p"
   ],
   "metadata": {
    "collapsed": false,
    "ExecuteTime": {
     "end_time": "2024-04-12T21:34:01.366876Z",
     "start_time": "2024-04-12T21:34:00.164816Z"
    }
   },
   "id": "445617ba018365b4",
   "execution_count": 42
  },
  {
   "cell_type": "code",
   "outputs": [
    {
     "data": {
      "text/plain": "       2\n(λ - 7) ",
      "image/png": "[encoded data removed]",
      "text/latex": "$\\displaystyle \\left(\\lambda - 7\\right)^{2}$"
     },
     "execution_count": 43,
     "metadata": {},
     "output_type": "execute_result"
    }
   ],
   "source": [
    "factor(p.as_expr())"
   ],
   "metadata": {
    "collapsed": false,
    "ExecuteTime": {
     "end_time": "2024-04-12T21:34:02.531645Z",
     "start_time": "2024-04-12T21:34:01.368250Z"
    }
   },
   "id": "f9b730f038d45ea0",
   "execution_count": 43
  },
  {
   "cell_type": "code",
   "outputs": [
    {
     "data": {
      "text/plain": "{7: 2}",
      "image/png": "[encoded data removed]",
      "text/latex": "$\\displaystyle \\left\\{ 7 : 2\\right\\}$"
     },
     "execution_count": 44,
     "metadata": {},
     "output_type": "execute_result"
    }
   ],
   "source": [
    "B.eigenvals()"
   ],
   "metadata": {
    "collapsed": false,
    "ExecuteTime": {
     "end_time": "2024-04-12T21:34:03.660555Z",
     "start_time": "2024-04-12T21:34:02.532743Z"
    }
   },
   "id": "45d424e9c5d7f2f8",
   "execution_count": 44
  },
  {
   "cell_type": "code",
   "outputs": [
    {
     "data": {
      "text/plain": "⎡⎛      ⎡⎡1⎤⎤⎞⎤\n⎢⎜7, 2, ⎢⎢ ⎥⎥⎟⎥\n⎣⎝      ⎣⎣0⎦⎦⎠⎦",
      "image/png": "[encoded data removed]",
      "text/latex": "$\\displaystyle \\left[ \\left( 7, \\  2, \\  \\left[ \\left[\\begin{matrix}1\\\\0\\end{matrix}\\right]\\right]\\right)\\right]$"
     },
     "execution_count": 45,
     "metadata": {},
     "output_type": "execute_result"
    }
   ],
   "source": [
    "B.eigenvects()"
   ],
   "metadata": {
    "collapsed": false,
    "ExecuteTime": {
     "end_time": "2024-04-12T21:34:04.749857Z",
     "start_time": "2024-04-12T21:34:03.663349Z"
    }
   },
   "id": "9447eb6b12bdcc22",
   "execution_count": 45
  },
  {
   "cell_type": "code",
   "outputs": [
    {
     "data": {
      "text/plain": "⎡6  -17⎤\n⎢      ⎥\n⎣8  -6 ⎦",
      "image/png": "[encoded data removed]",
      "text/latex": "$\\displaystyle \\left[\\begin{matrix}6 & -17\\\\8 & -6\\end{matrix}\\right]$"
     },
     "execution_count": 46,
     "metadata": {},
     "output_type": "execute_result"
    }
   ],
   "source": [
    "#The next 4 cells are for the system x1'=6x1-17x2 & x2'=8x1-6x2\n",
    "CoreyJR = Matrix([[6, -17], [8, -6]])\n",
    "CoreyJR"
   ],
   "metadata": {
    "collapsed": false,
    "ExecuteTime": {
     "end_time": "2024-04-12T21:34:05.945941Z",
     "start_time": "2024-04-12T21:34:04.751009Z"
    }
   },
   "id": "1d63addb0b4146b4",
   "execution_count": 46
  },
  {
   "cell_type": "code",
   "outputs": [
    {
     "data": {
      "text/plain": "PurePoly(lamda**2 + 100, lamda, domain='ZZ')",
      "image/png": "[encoded data removed]",
      "text/latex": "$\\displaystyle \\operatorname{PurePoly}{\\left( \\lambda^{2} + 100, \\lambda, domain=\\mathbb{Z} \\right)}$"
     },
     "execution_count": 47,
     "metadata": {},
     "output_type": "execute_result"
    }
   ],
   "source": [
    "p = CoreyJR.charpoly(lamda)\n",
    "p"
   ],
   "metadata": {
    "collapsed": false,
    "ExecuteTime": {
     "end_time": "2024-04-12T21:34:07.036729Z",
     "start_time": "2024-04-12T21:34:05.947007Z"
    }
   },
   "id": "1fcfde3c0955c123",
   "execution_count": 47
  },
  {
   "cell_type": "code",
   "outputs": [
    {
     "data": {
      "text/plain": " 2      \nλ  + 100",
      "image/png": "[encoded data removed]",
      "text/latex": "$\\displaystyle \\lambda^{2} + 100$"
     },
     "execution_count": 48,
     "metadata": {},
     "output_type": "execute_result"
    }
   ],
   "source": [
    "factor(p.as_expr())"
   ],
   "metadata": {
    "collapsed": false,
    "ExecuteTime": {
     "end_time": "2024-04-12T21:34:08.205805Z",
     "start_time": "2024-04-12T21:34:07.038018Z"
    }
   },
   "id": "5159dea09e61b1e2",
   "execution_count": 48
  },
  {
   "cell_type": "code",
   "outputs": [
    {
     "data": {
      "text/plain": "{-10⋅ⅈ: 1, 10⋅ⅈ: 1}",
      "image/png": "[encoded data removed]",
      "text/latex": "$\\displaystyle \\left\\{ - 10 i : 1, \\  10 i : 1\\right\\}$"
     },
     "execution_count": 49,
     "metadata": {},
     "output_type": "execute_result"
    }
   ],
   "source": [
    "CoreyJR.eigenvals()"
   ],
   "metadata": {
    "collapsed": false,
    "ExecuteTime": {
     "end_time": "2024-04-12T21:34:09.327421Z",
     "start_time": "2024-04-12T21:34:08.206883Z"
    }
   },
   "id": "b116abcc750b7fe5",
   "execution_count": 49
  },
  {
   "cell_type": "code",
   "outputs": [
    {
     "data": {
      "text/plain": "⎡⎛          ⎡⎡3   5⋅ⅈ⎤⎤⎞  ⎛         ⎡⎡3   5⋅ⅈ⎤⎤⎞⎤\n⎢⎜          ⎢⎢─ - ───⎥⎥⎟  ⎜         ⎢⎢─ + ───⎥⎥⎟⎥\n⎢⎜-10⋅ⅈ, 1, ⎢⎢4    4 ⎥⎥⎟, ⎜10⋅ⅈ, 1, ⎢⎢4    4 ⎥⎥⎟⎥\n⎢⎜          ⎢⎢       ⎥⎥⎟  ⎜         ⎢⎢       ⎥⎥⎟⎥\n⎣⎝          ⎣⎣   1   ⎦⎦⎠  ⎝         ⎣⎣   1   ⎦⎦⎠⎦",
      "image/png": "[encoded data removed]",
      "text/latex": "$\\displaystyle \\left[ \\left( - 10 i, \\  1, \\  \\left[ \\left[\\begin{matrix}\\frac{3}{4} - \\frac{5 i}{4}\\\\1\\end{matrix}\\right]\\right]\\right), \\  \\left( 10 i, \\  1, \\  \\left[ \\left[\\begin{matrix}\\frac{3}{4} + \\frac{5 i}{4}\\\\1\\end{matrix}\\right]\\right]\\right)\\right]$"
     },
     "execution_count": 50,
     "metadata": {},
     "output_type": "execute_result"
    }
   ],
   "source": [
    "CoreyJR.eigenvects()"
   ],
   "metadata": {
    "collapsed": false,
    "ExecuteTime": {
     "end_time": "2024-04-12T21:34:10.455172Z",
     "start_time": "2024-04-12T21:34:09.328487Z"
    }
   },
   "id": "bd8aea3bc5d7e844",
   "execution_count": 50
  },
  {
   "cell_type": "code",
   "outputs": [
    {
     "data": {
      "text/plain": "⎡-2  1   0 ⎤\n⎢          ⎥\n⎢1   -2  1 ⎥\n⎢          ⎥\n⎣0   1   -2⎦",
      "image/png": "[encoded data removed]",
      "text/latex": "$\\displaystyle \\left[\\begin{matrix}-2 & 1 & 0\\\\1 & -2 & 1\\\\0 & 1 & -2\\end{matrix}\\right]$"
     },
     "execution_count": 51,
     "metadata": {},
     "output_type": "execute_result"
    }
   ],
   "source": [
    "#The following cells are for HW set 23, you know that crazy stiffness matrix problem?\n",
    "C = Matrix([[-(1+1), 1, 0], [1, -(1+1), 1], [0, 1, -(1+1)]])\n",
    "C"
   ],
   "metadata": {
    "collapsed": false,
    "ExecuteTime": {
     "end_time": "2024-04-12T21:34:11.562283Z",
     "start_time": "2024-04-12T21:34:10.456258Z"
    }
   },
   "id": "a267e8deba26a047",
   "execution_count": 51
  },
  {
   "cell_type": "code",
   "outputs": [
    {
     "data": {
      "text/plain": "{-2: 1, -2 - √2: 1, -2 + √2: 1}",
      "image/png": "[encoded data removed]",
      "text/latex": "$\\displaystyle \\left\\{ -2 : 1, \\  -2 - \\sqrt{2} : 1, \\  -2 + \\sqrt{2} : 1\\right\\}$"
     },
     "execution_count": 52,
     "metadata": {},
     "output_type": "execute_result"
    }
   ],
   "source": [
    "C.eigenvals()"
   ],
   "metadata": {
    "collapsed": false,
    "ExecuteTime": {
     "end_time": "2024-04-12T21:34:12.575777Z",
     "start_time": "2024-04-12T21:34:11.563694Z"
    }
   },
   "id": "80c3f918793b77ed",
   "execution_count": 52
  },
  {
   "cell_type": "code",
   "outputs": [
    {
     "data": {
      "text/plain": "⎡⎛       ⎡⎡-1⎤⎤⎞  ⎛            ⎡⎡ 1 ⎤⎤⎞  ⎛            ⎡⎡1 ⎤⎤⎞⎤\n⎢⎜       ⎢⎢  ⎥⎥⎟  ⎜            ⎢⎢   ⎥⎥⎟  ⎜            ⎢⎢  ⎥⎥⎟⎥\n⎢⎜-2, 1, ⎢⎢0 ⎥⎥⎟, ⎜-2 - √2, 1, ⎢⎢-√2⎥⎥⎟, ⎜-2 + √2, 1, ⎢⎢√2⎥⎥⎟⎥\n⎢⎜       ⎢⎢  ⎥⎥⎟  ⎜            ⎢⎢   ⎥⎥⎟  ⎜            ⎢⎢  ⎥⎥⎟⎥\n⎣⎝       ⎣⎣1 ⎦⎦⎠  ⎝            ⎣⎣ 1 ⎦⎦⎠  ⎝            ⎣⎣1 ⎦⎦⎠⎦",
      "image/png": "[encoded data removed]",
      "text/latex": "$\\displaystyle \\left[ \\left( -2, \\  1, \\  \\left[ \\left[\\begin{matrix}-1\\\\0\\\\1\\end{matrix}\\right]\\right]\\right), \\  \\left( -2 - \\sqrt{2}, \\  1, \\  \\left[ \\left[\\begin{matrix}1\\\\- \\sqrt{2}\\\\1\\end{matrix}\\right]\\right]\\right), \\  \\left( -2 + \\sqrt{2}, \\  1, \\  \\left[ \\left[\\begin{matrix}1\\\\\\sqrt{2}\\\\1\\end{matrix}\\right]\\right]\\right)\\right]$"
     },
     "execution_count": 53,
     "metadata": {},
     "output_type": "execute_result"
    }
   ],
   "source": [
    "C.eigenvects()"
   ],
   "metadata": {
    "collapsed": false,
    "ExecuteTime": {
     "end_time": "2024-04-12T21:34:13.701425Z",
     "start_time": "2024-04-12T21:34:12.576792Z"
    }
   },
   "id": "7233ae55be2041d8",
   "execution_count": 53
  },
  {
   "cell_type": "code",
   "outputs": [],
   "source": [
    "#X1(t)=-c1e^(-2t)+c2e^(-2-sqrt(2))t+c3e^(-2+sqrt(2))t"
   ],
   "metadata": {
    "collapsed": false,
    "ExecuteTime": {
     "end_time": "2024-04-12T21:34:13.707413Z",
     "start_time": "2024-04-12T21:34:13.702511Z"
    }
   },
   "id": "28becaa787432798",
   "execution_count": 54
  },
  {
   "cell_type": "code",
   "outputs": [],
   "source": [
    "#X2(t)=-sqrt(2)c2e^(-2-sqrt(2))t+sqrt(2)c3e^-(2-sqrt(2))t"
   ],
   "metadata": {
    "collapsed": false,
    "ExecuteTime": {
     "end_time": "2024-04-12T21:34:13.721822Z",
     "start_time": "2024-04-12T21:34:13.708420Z"
    }
   },
   "id": "ce03cd9bc289f63f",
   "execution_count": 55
  },
  {
   "cell_type": "code",
   "outputs": [],
   "source": [
    "#X2(t)=-c1e^(-2t)+c2e^(-2-sqrt(2))t+c3e^-(2-sqrt(2))t"
   ],
   "metadata": {
    "collapsed": false,
    "ExecuteTime": {
     "end_time": "2024-04-12T21:34:13.732722Z",
     "start_time": "2024-04-12T21:34:13.722827Z"
    }
   },
   "id": "14c5e3c4933d448",
   "execution_count": 56
  }
 ],
 "metadata": {
  "kernelspec": {
   "display_name": "Python 3",
   "language": "python",
   "name": "python3"
  },
  "language_info": {
   "codemirror_mode": {
    "name": "ipython",
    "version": 2
   },
   "file_extension": ".py",
   "mimetype": "text/x-python",
   "name": "python",
   "nbconvert_exporter": "python",
   "pygments_lexer": "ipython2",
   "version": "2.7.6"
  }
 },
 "nbformat": 4,
 "nbformat_minor": 5
}
